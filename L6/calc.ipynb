{
 "cells": [
  {
   "cell_type": "code",
   "execution_count": 1,
   "metadata": {
    "collapsed": true
   },
   "outputs": [],
   "source": [
    "from math import *\n",
    "import numpy as np\n",
    "import matplotlib.pyplot as plt\n",
    "%matplotlib inline"
   ]
  },
  {
   "cell_type": "code",
   "execution_count": 4,
   "metadata": {
    "collapsed": false
   },
   "outputs": [
    {
     "name": "stdout",
     "output_type": "stream",
     "text": [
      "0.0007368421052631578\n"
     ]
    }
   ],
   "source": [
    "l1 = 3.8\n",
    "l = 0.7\n",
    "nu = 250\n",
    "T = l / (l1 * nu)\n",
    "print(T)"
   ]
  },
  {
   "cell_type": "code",
   "execution_count": 35,
   "metadata": {
    "collapsed": true
   },
   "outputs": [],
   "source": [
    "R_all = []\n",
    "lmb_all = []"
   ]
  },
  {
   "cell_type": "code",
   "execution_count": 89,
   "metadata": {
    "collapsed": true
   },
   "outputs": [],
   "source": [
    "lmb_all_2 = []"
   ]
  },
  {
   "cell_type": "code",
   "execution_count": 90,
   "metadata": {
    "collapsed": false
   },
   "outputs": [
    {
     "name": "stdout",
     "output_type": "stream",
     "text": [
      "exp lambda = [2.923076923076923, 1.625, 1.3333333333333335, 1.4999999999999998]\n",
      "labda = lmb[1.0726368022648489, 0.48550781578170082, 0.28768207245178101, 0.40546510810816422]\n",
      "gamma763.831145956\n",
      "2\n",
      "exp lambda = [1.6470588235294117, 1.5714285714285716, 1.5681818181818181]\n",
      "labda = lmb[0.49899116611898781, 0.45198512374305738, 0.44991687067899816]\n",
      "gamma633.73738215\n"
     ]
    }
   ],
   "source": [
    "R = 100\n",
    "isin = np.arange(1,6)\n",
    "Asin = [3.8,1.3,0.8,0.6,0.4]\n",
    "Ael = [1.7, 2.8, 4.4, 6.9]\n",
    "iel = np.arange(1,5)\n",
    "# R_all.append(R)\n",
    "# lmb_all.append(calc(R,isin,Asin,iel,Ael))\n",
    "calc(R,isin,Asin,iel,Ael)\n",
    "print('2')\n",
    "lmb_all_2.append(calc2(R,iel,Ael))"
   ]
  },
  {
   "cell_type": "code",
   "execution_count": 91,
   "metadata": {
    "collapsed": false
   },
   "outputs": [
    {
     "name": "stdout",
     "output_type": "stream",
     "text": [
      "exp lambda = [3.4, 2.0, 1.6666666666666667, 1.4999999999999998]\n",
      "labda = lmb[1.2237754316221157, 0.69314718055994529, 0.51082562376599072, 0.40546510810816422]\n",
      "gamma961.268813162\n",
      "2\n",
      "exp lambda = [2.1818181818181817, 1.9583333333333335, 2.0]\n",
      "labda = lmb[0.78015855754957497, 0.67209377136211301, 0.69314718055994529]\n",
      "gamma970.537873332\n"
     ]
    }
   ],
   "source": [
    "R = 200\n",
    "isin = np.arange(1,6)\n",
    "Asin = [3.4,1.0,0.5,0.3,0.2]\n",
    "iel = np.arange(1,5)\n",
    "Ael = [1.1,2.4,4.7,9.4]\n",
    "# R_all.append(R)\n",
    "# lmb_all.append(calc(R,isin,Asin,iel,Ael))\n",
    "calc(R,isin,Asin,iel,Ael)\n",
    "print('2')\n",
    "lmb_all_2.append(calc2(R,iel,Ael))"
   ]
  },
  {
   "cell_type": "code",
   "execution_count": 92,
   "metadata": {
    "collapsed": false
   },
   "outputs": [
    {
     "name": "stdout",
     "output_type": "stream",
     "text": [
      "exp lambda = [4.142857142857143, 2.8, 2.5]\n",
      "labda = lmb[1.4213856809311609, 1.0296194171811581, 0.91629073187415511]\n",
      "gamma1523.30049452\n",
      "2\n",
      "exp lambda = [3.4999999999999996, 2.7142857142857144, 2.578947368421053]\n",
      "labda = lmb[1.2527629684953678, 0.99852883011112725, 0.94738131894418631]\n",
      "gamma1447.01879127\n"
     ]
    }
   ],
   "source": [
    "R = 300\n",
    "isin = np.arange(1,5)\n",
    "Asin = [5.8,1.4,0.5,0.2]\n",
    "Ael = [0.2,0.7,1.9,4.9]\n",
    "iel = np.arange(1,5)\n",
    "# R_all.append(R)\n",
    "# lmb_all.append(calc(R,isin,Asin,iel,Ael))\n",
    "calc(R,isin,Asin,iel,Ael)\n",
    "print('2')\n",
    "lmb_all_2.append(calc2(R,iel,Ael))"
   ]
  },
  {
   "cell_type": "code",
   "execution_count": 93,
   "metadata": {
    "collapsed": false
   },
   "outputs": [
    {
     "name": "stdout",
     "output_type": "stream",
     "text": [
      "exp lambda = [5.2, 4.0]\n",
      "labda = lmb[1.6486586255873816, 1.3862943611198906]\n",
      "gamma2059.43238384\n",
      "2\n",
      "exp lambda = [3.3333333333333335, 3.3]\n",
      "labda = lmb[1.2039728043259361, 1.1939224684724346]\n",
      "gamma1627.14322083\n"
     ]
    }
   ],
   "source": [
    "R = 400\n",
    "isin = np.arange(1,4)\n",
    "Asin = [5.2,1.0,0.25]\n",
    "Ael = [0.3,1,3.3]\n",
    "iel = np.arange(1,4)\n",
    "# R_all.append(R)\n",
    "# lmb_all.append(calc(R,isin,Asin,iel,Ael))\n",
    "calc(R,isin,Asin,iel,Ael)\n",
    "print('2')\n",
    "lmb_all_2.append(calc2(R,iel,Ael))"
   ]
  },
  {
   "cell_type": "code",
   "execution_count": 94,
   "metadata": {
    "collapsed": false
   },
   "outputs": [
    {
     "name": "stdout",
     "output_type": "stream",
     "text": [
      "exp lambda = [6.571428571428571, 6.999999999999999]\n",
      "labda = lmb[1.8827312474337816, 1.9459101490553132]\n",
      "gamma2598.0066619\n",
      "2\n",
      "exp lambda = [4.5, 4.222222222222222]\n",
      "labda = lmb[1.5040773967762742, 1.4403615823901663]\n",
      "gamma1998.01216443\n"
     ]
    }
   ],
   "source": [
    "R = 500\n",
    "isin = np.arange(1,4)\n",
    "Asin = [4.6,0.7,0.1]\n",
    "Ael = [0.4,1.8,7.6]\n",
    "iel = np.arange(1,4)\n",
    "# R_all.append(R)\n",
    "# lmb_all.append(calc(R,isin,Asin,iel,Ael))\n",
    "calc(R,isin,Asin,iel,Ael)\n",
    "print('2')\n",
    "lmb_all_2.append(calc2(R,iel,Ael))"
   ]
  },
  {
   "cell_type": "code",
   "execution_count": 95,
   "metadata": {
    "collapsed": false
   },
   "outputs": [
    {
     "name": "stdout",
     "output_type": "stream",
     "text": [
      "exp lambda = [8.4]\n",
      "labda = lmb[2.1282317058492679]\n",
      "gamma2888.31445794\n",
      "2\n",
      "exp lambda = [5.6]\n",
      "labda = lmb[1.7227665977411035]\n",
      "gamma2338.04038265\n"
     ]
    }
   ],
   "source": [
    "R = 600\n",
    "isin = np.arange(1,3)\n",
    "Asin = [4.2,0.5]\n",
    "Ael = [0.5,2.8]\n",
    "iel = np.arange(1,3)\n",
    "# R_all.append(R)\n",
    "# lmb_all.append(calc(R,isin,Asin,iel,Ael))\n",
    "calc(R,isin,Asin,iel,Ael)\n",
    "print('2')\n",
    "lmb_all_2.append(calc2(R,iel,Ael))"
   ]
  },
  {
   "cell_type": "code",
   "execution_count": 82,
   "metadata": {
    "collapsed": false
   },
   "outputs": [
    {
     "name": "stdout",
     "output_type": "stream",
     "text": [
      "[100 200 300 400 500 600]\n",
      "6 == 6\n"
     ]
    },
    {
     "data": {
      "image/png": "[encoded data removed]",
      "text/plain": [
       "<matplotlib.figure.Figure at 0x10c7a4a58>"
      ]
     },
     "metadata": {},
     "output_type": "display_data"
    },
    {
     "name": "stdout",
     "output_type": "stream",
     "text": [
      "a =0.0033828972622012873   L = 0.10890695876227804\n",
      "sigm_a = 0.0001664435653sigma_L = 0.00535838398197\n",
      "eps_a = 0.0492014839352eps_L = 0.0492014839352\n",
      "b =0.141583812637   R_k = 41.8528266343\n",
      "sigm_b = 0.0284256503157sigm_Rk = 8.65139588824\n",
      "eps_b = 0.200769069475eps_Rk = 0.206709954475\n",
      "C = [  1.73709469e-07   9.46437903e-08   1.18959073e-07   1.30150114e-07\n",
      "   1.37728110e-07   1.21317314e-07]\n",
      "C_mean = 1.29417978469e-07\n",
      "C_eps = 0.0354141337528\n",
      "C_sigm = 4.58322559953e-09\n",
      "R_mkr = 1792.82792665\n"
     ]
    }
   ],
   "source": [
    "print(R_all)\n",
    "print('6 == ' + str(len(lmb_all)))\n",
    "R_all = np.array(R_all)\n",
    "lmb_all = np.array(lmb_all)\n",
    "\n",
    "a = mnk_val(R_all, lmb_all)\n",
    "b = mnk_b(R_all,lmb_all,a)\n",
    "X = [0,R_all[-1]]\n",
    "Y = [a*X[0] + b , a*X[1] + b]\n",
    "plt.figure(figsize=(15,7))\n",
    "plt.title(r'$\\lambda(R_m)$',fontsize=20)\n",
    "plt.xlabel(r'$R_m$',fontsize=20)\n",
    "plt.ylabel(r'$\\lambda$',fontsize=20)\n",
    "plt.plot(R_all,lmb_all,'-o',color='black')\n",
    "plt.plot(X,Y,'--',color='black')\n",
    "plt.savefig('plot1.png')\n",
    "plt.show()\n",
    "\n",
    "sigma_a, sigma_b = mnk_err(R_all,lmb_all,a)\n",
    "eps_a = sigma_a/a\n",
    "eps_b = sigma_b/b\n",
    "\n",
    "L = T / (2*a)\n",
    "Rk = 2 * b * L / T\n",
    "eps_L = eps_a\n",
    "sigm_L = eps_L * L \n",
    "eps_Rk = np.sqrt(eps_b ** 2 + eps_a ** 2)\n",
    "sigm_Rk = Rk * eps_Rk\n",
    "\n",
    "print('a =' + str(a) + \"   L = \" + str(L))\n",
    "print('sigm_a = ' + str(sigma_a) + \"sigma_L = \" + str(sigm_L))\n",
    "print('eps_a = ' + str(eps_a) + 'eps_L = ' + str(eps_L))\n",
    "\n",
    "print('b =' + str(b) + \"   R_k = \" + str(Rk))\n",
    "print('sigm_b = ' + str(sigma_b) + 'sigm_Rk = ' + str(sigm_Rk))\n",
    "print('eps_b = ' + str(eps_b) + 'eps_Rk = ' + str(eps_Rk))\n",
    "\n",
    "\n",
    "gamma_all = lmb_all / T \n",
    "C = L * T**2 * gamma_all**2 / (np.pi**2 * (R_all + Rk)**2)\n",
    "eps_C = np.sqrt(eps_L ** 2 + eps_Rk**2) / len(C)\n",
    "print('C = ' + str(C))\n",
    "C_mean = np.mean(C)\n",
    "sigma_C = C_mean * eps_C\n",
    "print('C_mean = ' + str(C_mean))\n",
    "print('C_eps = ' + str(eps_C))\n",
    "print('C_sigm = ' + str(sigma_C))\n",
    "\n",
    "R_mkr = 2 * np.sqrt(L/C_mean) - Rk\n",
    "print('R_mkr = ' + str(R_mkr))"
   ]
  },
  {
   "cell_type": "code",
   "execution_count": null,
   "metadata": {
    "collapsed": true
   },
   "outputs": [],
   "source": []
  },
  {
   "cell_type": "code",
   "execution_count": 27,
   "metadata": {
    "collapsed": false
   },
   "outputs": [],
   "source": [
    "def calc(R,i_sin,A_sin,i_el,A_el):\n",
    "    explmb = [A_sin[i-1]/A_sin[i] for i in range(1,len(A_sin))]\n",
    "    print('exp lambda = ' + str(explmb))\n",
    "    lmb = [np.log(A_sin[i-1]/A_sin[i]) for i in range(1,len(A_sin))]\n",
    "    print('labda = lmb' + str(lmb))\n",
    "    gama = np.mean(lmb) / T\n",
    "    print('gamma' + str(gama))\n",
    "    return np.mean(lmb)"
   ]
  },
  {
   "cell_type": "code",
   "execution_count": 74,
   "metadata": {
    "collapsed": false
   },
   "outputs": [],
   "source": [
    "def mnk_val(x,y):\n",
    "    x = np.array(x)\n",
    "    y = np.array(y)\n",
    "    t = (x*y).mean() - x.mean()*y.mean()\n",
    "    b = (x*x).mean() - x.mean()**2\n",
    "    t = float(t)\n",
    "    b = float(b)\n",
    "    return t/b\n",
    "\n",
    "def mnk_err(x,y,k):\n",
    "    x = np.array(x)\n",
    "    y = np.array(y)\n",
    "    t = (y*y).mean() - y.mean()**2\n",
    "    b = (x*x).mean() - x.mean()**2\n",
    "    t = float(t)\n",
    "    b = float(b)\n",
    "    aerr = np.sqrt((t/b - k*k)/len(x))\n",
    "    berr = aerr * np.sqrt((x*x).mean() - x.mean()**2)\n",
    "    return aerr,berr\n",
    "\n",
    "def mnk_b(x,y,k):\n",
    "    x = np.array(x)\n",
    "    y = np.array(y)\n",
    "    return y.mean() - k*x.mean()"
   ]
  },
  {
   "cell_type": "code",
   "execution_count": null,
   "metadata": {
    "collapsed": true
   },
   "outputs": [],
   "source": []
  },
  {
   "cell_type": "code",
   "execution_count": 87,
   "metadata": {
    "collapsed": true
   },
   "outputs": [],
   "source": [
    "def calc2(R, i_sin, A_sin) :\n",
    "    explmb = [A_sin[i]/A_sin[i-1] for i in range(1,len(A_sin))]\n",
    "    print('exp lambda = ' + str(explmb))\n",
    "    lmb = [np.log(A_sin[i]/A_sin[i-1]) for i in range(1,len(A_sin))]\n",
    "    print('labda = lmb' + str(lmb))\n",
    "    gama = np.mean(lmb) / T\n",
    "    print('gamma' + str(gama))\n",
    "    return np.mean(lmb)"
   ]
  },
  {
   "cell_type": "code",
   "execution_count": null,
   "metadata": {
    "collapsed": true
   },
   "outputs": [],
   "source": []
  },
  {
   "cell_type": "code",
   "execution_count": 103,
   "metadata": {
    "collapsed": false
   },
   "outputs": [
    {
     "name": "stdout",
     "output_type": "stream",
     "text": [
      "[0.46696438684701441, 0.71513316982387776, 1.0662243725168936, 1.1989476363991853, 1.4722194895832201, 1.7227665977411035]\n",
      "[100 200 300 400 500 600]\n",
      "5.58184888433\n",
      "1.47615160744\n",
      "6.46684594454\n",
      "1.42920672555\n"
     ]
    }
   ],
   "source": [
    "print(lmb_all_2)\n",
    "print(R_all)\n",
    "Q = np.pi / lmb_all\n",
    "print(Q[0])\n",
    "print(Q[-1])\n",
    "Q_min = 1/(Rk + 100) * np.sqrt(L/C_mean)\n",
    "Q_max = 1/(Rk + 600) * np.sqrt(L/C_mean)\n",
    "print(Q_min)\n",
    "print(Q_max)"
   ]
  },
  {
   "cell_type": "markdown",
   "metadata": {
    "collapsed": true
   },
   "source": [
    "10^-5 -> 0.1 (формула 8)\n",
    "(формула 11) 1e-6 - > 1e8 (в ФАРАДАХ)"
   ]
  }
 ],
 "metadata": {
  "kernelspec": {
   "display_name": "Python 3",
   "language": "python",
   "name": "python3"
  },
  "language_info": {
   "codemirror_mode": {
    "name": "ipython",
    "version": 3
   },
   "file_extension": ".py",
   "mimetype": "text/x-python",
   "name": "python",
   "nbconvert_exporter": "python",
   "pygments_lexer": "ipython3",
   "version": "3.5.1"
  }
 },
 "nbformat": 4,
 "nbformat_minor": 0
}
