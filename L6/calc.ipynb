{
 "cells": [
  {
   "cell_type": "code",
   "execution_count": 1,
   "metadata": {
    "collapsed": true
   },
   "outputs": [],
   "source": [
    "from math import *\n",
    "import numpy as np\n",
    "import matplotlib.pyplot as plt\n",
    "%matplotlib inline"
   ]
  },
  {
   "cell_type": "code",
   "execution_count": 4,
   "metadata": {
    "collapsed": false
   },
   "outputs": [
    {
     "name": "stdout",
     "output_type": "stream",
     "text": [
      "0.0007368421052631578\n"
     ]
    }
   ],
   "source": [
    "l1 = 3.8\n",
    "l = 0.7\n",
    "nu = 250\n",
    "T = l / (l1 * nu)\n",
    "print(T)"
   ]
  },
  {
   "cell_type": "code",
   "execution_count": 35,
   "metadata": {
    "collapsed": true
   },
   "outputs": [],
   "source": [
    "R_all = []\n",
    "lmb_all = []"
   ]
  },
  {
   "cell_type": "code",
   "execution_count": 36,
   "metadata": {
    "collapsed": false
   },
   "outputs": [
    {
     "name": "stdout",
     "output_type": "stream",
     "text": [
      "exp lambda = [2.923076923076923, 1.625, 1.3333333333333335, 1.4999999999999998]\n",
      "labda = lmb[1.0726368022648489, 0.48550781578170082, 0.28768207245178101, 0.40546510810816422]\n",
      "gamma763.831145956\n"
     ]
    }
   ],
   "source": [
    "R = 100\n",
    "isin = np.arange(1,6)\n",
    "Asin = [3.8,1.3,0.8,0.6,0.4]\n",
    "Ael = [1.7, 2.8, 4.4, 6.9]\n",
    "iel = np.arange(1,5)\n",
    "R_all.append(R)\n",
    "lmb_all.append(calc(R,isin,Asin,iel,Ael))"
   ]
  },
  {
   "cell_type": "code",
   "execution_count": 37,
   "metadata": {
    "collapsed": false
   },
   "outputs": [
    {
     "name": "stdout",
     "output_type": "stream",
     "text": [
      "exp lambda = [3.4, 2.0, 1.6666666666666667, 1.4999999999999998]\n",
      "labda = lmb[1.2237754316221157, 0.69314718055994529, 0.51082562376599072, 0.40546510810816422]\n",
      "gamma961.268813162\n"
     ]
    }
   ],
   "source": [
    "R = 200\n",
    "isin = np.arange(1,6)\n",
    "Asin = [3.4,1.0,0.5,0.3,0.2]\n",
    "iel = np.arange(1,5)\n",
    "Ael = [1.1,2.4,4.7,9.4]\n",
    "R_all.append(R)\n",
    "lmb_all.append(calc(R,isin,Asin,iel,Ael))"
   ]
  },
  {
   "cell_type": "code",
   "execution_count": 38,
   "metadata": {
    "collapsed": false
   },
   "outputs": [
    {
     "name": "stdout",
     "output_type": "stream",
     "text": [
      "exp lambda = [4.142857142857143, 2.8, 2.5]\n",
      "labda = lmb[1.4213856809311609, 1.0296194171811581, 0.91629073187415511]\n",
      "gamma1523.30049452\n"
     ]
    }
   ],
   "source": [
    "R = 300\n",
    "isin = np.arange(1,5)\n",
    "Asin = [5.8,1.4,0.5,0.2]\n",
    "Ael = [0.2,0.7,1.9,4.9]\n",
    "iel = np.arange(1,5)\n",
    "R_all.append(R)\n",
    "lmb_all.append(calc(R,isin,Asin,iel,Ael))"
   ]
  },
  {
   "cell_type": "code",
   "execution_count": 39,
   "metadata": {
    "collapsed": false
   },
   "outputs": [
    {
     "name": "stdout",
     "output_type": "stream",
     "text": [
      "exp lambda = [5.2, 4.0]\n",
      "labda = lmb[1.6486586255873816, 1.3862943611198906]\n",
      "gamma2059.43238384\n"
     ]
    }
   ],
   "source": [
    "R = 400\n",
    "isin = np.arange(1,4)\n",
    "Asin = [5.2,1.0,0.25]\n",
    "Ael = [0.3,1,3.3]\n",
    "iel = np.arange(1,4)\n",
    "R_all.append(R)\n",
    "lmb_all.append(calc(R,isin,Asin,iel,Ael))"
   ]
  },
  {
   "cell_type": "code",
   "execution_count": 40,
   "metadata": {
    "collapsed": false
   },
   "outputs": [
    {
     "name": "stdout",
     "output_type": "stream",
     "text": [
      "exp lambda = [6.571428571428571, 6.999999999999999]\n",
      "labda = lmb[1.8827312474337816, 1.9459101490553132]\n",
      "gamma2598.0066619\n"
     ]
    }
   ],
   "source": [
    "R = 500\n",
    "isin = np.arange(1,4)\n",
    "Asin = [4.6,0.7,0.1]\n",
    "Ael = [0.4,1.8,7.6]\n",
    "iel = np.arange(1,4)\n",
    "R_all.append(R)\n",
    "lmb_all.append(calc(R,isin,Asin,iel,Ael))"
   ]
  },
  {
   "cell_type": "code",
   "execution_count": 41,
   "metadata": {
    "collapsed": false
   },
   "outputs": [
    {
     "name": "stdout",
     "output_type": "stream",
     "text": [
      "exp lambda = [8.4]\n",
      "labda = lmb[2.1282317058492679]\n",
      "gamma2888.31445794\n"
     ]
    }
   ],
   "source": [
    "R = 600\n",
    "isin = np.arange(1,3)\n",
    "Asin = [4.2,0.5]\n",
    "Ael = [0.5,2.8]\n",
    "iel = np.arange(1,3)\n",
    "R_all.append(R)\n",
    "lmb_all.append(calc(R,isin,Asin,iel,Ael))"
   ]
  },
  {
   "cell_type": "code",
   "execution_count": 46,
   "metadata": {
    "collapsed": false
   },
   "outputs": [
    {
     "name": "stdout",
     "output_type": "stream",
     "text": [
      "[100, 200, 300, 400, 500, 600]\n",
      "6 == 6\n"
     ]
    },
    {
     "data": {
      "image/png": "[encoded data removed]",
      "text/plain": [
       "<matplotlib.figure.Figure at 0x10c86d518>"
      ]
     },
     "metadata": {},
     "output_type": "display_data"
    }
   ],
   "source": [
    "print(R_all)\n",
    "print('6 == ' + str(len(lmb_all)))\n",
    "\n",
    "plt.figure(figsize=(15,7))\n",
    "plt.title(r'$\\lambda(R_m)$',fontsize=20)\n",
    "plt.xlabel(r'$R_m$',fontsize=20)\n",
    "plt.ylabel(r'$\\lambda$',fontsize=20)\n",
    "plt.plot(R_all,lmb_all,'-o',color='black')\n",
    "plt.savefig('plot1.png')\n",
    "plt.show()"
   ]
  },
  {
   "cell_type": "code",
   "execution_count": 27,
   "metadata": {
    "collapsed": false
   },
   "outputs": [],
   "source": [
    "def calc(R,i_sin,A_sin,i_el,A_el):\n",
    "    explmb = [A_sin[i-1]/A_sin[i] for i in range(1,len(A_sin))]\n",
    "    print('exp lambda = ' + str(explmb))\n",
    "    lmb = [np.log(A_sin[i-1]/A_sin[i]) for i in range(1,len(A_sin))]\n",
    "    print('labda = lmb' + str(lmb))\n",
    "    gama = np.mean(lmb) / T\n",
    "    print('gamma' + str(gama))\n",
    "    return np.mean(lmb)"
   ]
  },
  {
   "cell_type": "markdown",
   "metadata": {
    "collapsed": true
   },
   "source": [
    "10^-5 -> 0.1 (формула 8)\n",
    "(формула 11) 1e-6 - > 1e8 (в ФАРАДАХ)"
   ]
  }
 ],
 "metadata": {
  "kernelspec": {
   "display_name": "Python 3",
   "language": "python",
   "name": "python3"
  },
  "language_info": {
   "codemirror_mode": {
    "name": "ipython",
    "version": 3
   },
   "file_extension": ".py",
   "mimetype": "text/x-python",
   "name": "python",
   "nbconvert_exporter": "python",
   "pygments_lexer": "ipython3",
   "version": "3.5.1"
  }
 },
 "nbformat": 4,
 "nbformat_minor": 0
}
