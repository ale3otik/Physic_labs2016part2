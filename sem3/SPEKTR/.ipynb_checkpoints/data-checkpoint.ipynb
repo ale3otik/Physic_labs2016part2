{
 "cells": [
  {
   "cell_type": "code",
   "execution_count": 1,
   "metadata": {
    "collapsed": true
   },
   "outputs": [],
   "source": [
    "# Неон\n",
    "\n",
    "# [номер в таблице, мера на барабане, Обозначение-цвет]\n",
    "neon = [[3,2396,'Красная'] , [15,2290,'Красно-Оранж'], [20,1998,'Оранжевая'],[22,2150,'Желтая'], [23,1880,'Зеленая']]\n"
   ]
  },
  {
   "cell_type": "code",
   "execution_count": 2,
   "metadata": {
    "collapsed": true
   },
   "outputs": [],
   "source": [
    "#Ртуть\n",
    "# [номер в таблице, мера на барабане, Обозначение-цвет]\n",
    "\n",
    "rtut = [[-1,2571,'K1'], [0, 2328,'K2'], [1,2122,'1'], [2,2106,'2'],\n",
    "        [3, 1924,'3'], [4,1498,'4'], [5,826,'5'], [6,272,'6']]\n"
   ]
  },
  {
   "cell_type": "code",
   "execution_count": 4,
   "metadata": {
    "collapsed": false
   },
   "outputs": [],
   "source": [
    "#Водород\n",
    "\n",
    "vodorod = [[1,2452,'Красный'], [2,1444,'Голубой'], [3,802,'Фиолетовый']]"
   ]
  },
  {
   "cell_type": "code",
   "execution_count": 6,
   "metadata": {
    "collapsed": false
   },
   "outputs": [
    {
     "name": "stdout",
     "output_type": "stream",
     "text": [
      "164\n"
     ]
    }
   ],
   "source": [
    "#йод\n",
    "# измерим размер 10 полос\n",
    "hm0 = 2150\n",
    "hm10 = 1986\n",
    "print(t0 - t10)"
   ]
  },
  {
   "cell_type": "code",
   "execution_count": null,
   "metadata": {
    "collapsed": true
   },
   "outputs": [],
   "source": [
    "hmu_10 = 2964\n",
    "hmu_15 = 2180\n",
    "hmu_gr = 1892"
   ]
  }
 ],
 "metadata": {
  "kernelspec": {
   "display_name": "Python 3",
   "language": "python",
   "name": "python3"
  },
  "language_info": {
   "codemirror_mode": {
    "name": "ipython",
    "version": 3
   },
   "file_extension": ".py",
   "mimetype": "text/x-python",
   "name": "python",
   "nbconvert_exporter": "python",
   "pygments_lexer": "ipython3",
   "version": "3.5.1"
  }
 },
 "nbformat": 4,
 "nbformat_minor": 0
}
