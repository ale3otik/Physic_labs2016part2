{
 "cells": [
  {
   "cell_type": "code",
   "execution_count": 54,
   "metadata": {
    "collapsed": false
   },
   "outputs": [
    {
     "name": "stdout",
     "output_type": "stream",
     "text": [
      "k = 0.001986723192616907\n",
      "b = 0.00139824959225\n"
     ]
    },
    {
     "data": {
      "image/png": "[encoded data removed]",
      "text/plain": [
       "<matplotlib.figure.Figure at 0x117e5d208>"
      ]
     },
     "metadata": {},
     "output_type": "display_data"
    }
   ],
   "source": [
    "def f(x):\n",
    "    return k * x + b\n",
    "level = np.array([763,713,647,595,520,472,418,362,324,309,265])\n",
    "angle = np.arange(0,110,10)\n",
    "X = 1 - np.cos(angle * np.pi / 180)\n",
    "Y = 1 / level\n",
    "print('k =',k)\n",
    "print('b =',b)\n",
    "k = mnk_val(X,Y)\n",
    "b = mnk_b(X,Y,k)\n",
    "plt.figure(figsize=(10,5))\n",
    "plt.grid(True)\n",
    "plt.plot(X,Y,'o',color='black')\n",
    "plt.plot([X[0],X[-1]],[f(X[0]),f(X[-1])],'--',color='black')\n",
    "plt.xlim(X[0]-0.02,X[-1] + 0.02)\n",
    "plt.xlabel(r\"$1-cos(\\theta)$\",fontsize=15)\n",
    "plt.ylabel(r\"$1/N(\\theta)$\",fontsize=15)\n",
    "plt.savefig('g1.png')\n",
    "plt.show()"
   ]
  },
  {
   "cell_type": "code",
   "execution_count": 43,
   "metadata": {
    "collapsed": false
   },
   "outputs": [
    {
     "data": {
      "text/html": [
       "<div>\n",
       "<table border=\"1\" class=\"dataframe\">\n",
       "  <thead>\n",
       "    <tr style=\"text-align: right;\">\n",
       "      <th></th>\n",
       "      <th>1-cos(theta)</th>\n",
       "      <th>1/N</th>\n",
       "      <th>N</th>\n",
       "      <th>theta</th>\n",
       "    </tr>\n",
       "  </thead>\n",
       "  <tbody>\n",
       "    <tr>\n",
       "      <th>0</th>\n",
       "      <td>0.000000</td>\n",
       "      <td>0.001311</td>\n",
       "      <td>763</td>\n",
       "      <td>0</td>\n",
       "    </tr>\n",
       "    <tr>\n",
       "      <th>1</th>\n",
       "      <td>0.015192</td>\n",
       "      <td>0.001403</td>\n",
       "      <td>713</td>\n",
       "      <td>10</td>\n",
       "    </tr>\n",
       "    <tr>\n",
       "      <th>2</th>\n",
       "      <td>0.060307</td>\n",
       "      <td>0.001546</td>\n",
       "      <td>647</td>\n",
       "      <td>20</td>\n",
       "    </tr>\n",
       "    <tr>\n",
       "      <th>3</th>\n",
       "      <td>0.133975</td>\n",
       "      <td>0.001681</td>\n",
       "      <td>595</td>\n",
       "      <td>30</td>\n",
       "    </tr>\n",
       "    <tr>\n",
       "      <th>4</th>\n",
       "      <td>0.233956</td>\n",
       "      <td>0.001923</td>\n",
       "      <td>520</td>\n",
       "      <td>40</td>\n",
       "    </tr>\n",
       "    <tr>\n",
       "      <th>5</th>\n",
       "      <td>0.357212</td>\n",
       "      <td>0.002119</td>\n",
       "      <td>472</td>\n",
       "      <td>50</td>\n",
       "    </tr>\n",
       "    <tr>\n",
       "      <th>6</th>\n",
       "      <td>0.500000</td>\n",
       "      <td>0.002392</td>\n",
       "      <td>418</td>\n",
       "      <td>60</td>\n",
       "    </tr>\n",
       "    <tr>\n",
       "      <th>7</th>\n",
       "      <td>0.657980</td>\n",
       "      <td>0.002762</td>\n",
       "      <td>362</td>\n",
       "      <td>70</td>\n",
       "    </tr>\n",
       "    <tr>\n",
       "      <th>8</th>\n",
       "      <td>0.826352</td>\n",
       "      <td>0.003086</td>\n",
       "      <td>324</td>\n",
       "      <td>80</td>\n",
       "    </tr>\n",
       "    <tr>\n",
       "      <th>9</th>\n",
       "      <td>1.000000</td>\n",
       "      <td>0.003236</td>\n",
       "      <td>309</td>\n",
       "      <td>90</td>\n",
       "    </tr>\n",
       "    <tr>\n",
       "      <th>10</th>\n",
       "      <td>1.173648</td>\n",
       "      <td>0.003774</td>\n",
       "      <td>265</td>\n",
       "      <td>100</td>\n",
       "    </tr>\n",
       "  </tbody>\n",
       "</table>\n",
       "</div>"
      ],
      "text/plain": [
       "    1-cos(theta)       1/N    N  theta\n",
       "0       0.000000  0.001311  763      0\n",
       "1       0.015192  0.001403  713     10\n",
       "2       0.060307  0.001546  647     20\n",
       "3       0.133975  0.001681  595     30\n",
       "4       0.233956  0.001923  520     40\n",
       "5       0.357212  0.002119  472     50\n",
       "6       0.500000  0.002392  418     60\n",
       "7       0.657980  0.002762  362     70\n",
       "8       0.826352  0.003086  324     80\n",
       "9       1.000000  0.003236  309     90\n",
       "10      1.173648  0.003774  265    100"
      ]
     },
     "execution_count": 43,
     "metadata": {},
     "output_type": "execute_result"
    }
   ],
   "source": [
    "d = {'N':level, 'theta':angle, '1-cos(theta)':X, '1/N':Y }\n",
    "frame = pd.DataFrame(data=d)\n",
    "frame"
   ]
  },
  {
   "cell_type": "code",
   "execution_count": 51,
   "metadata": {
    "collapsed": false
   },
   "outputs": [
    {
     "name": "stdout",
     "output_type": "stream",
     "text": [
      "N0 715.179897451\n",
      "Np 295.423350069\n",
      "Ee 437.761661823\n"
     ]
    }
   ],
   "source": [
    "Eg = 622 \n",
    "N0 = 1 / (k*0 + b)\n",
    "Np = 1 / (k*1 + b)\n",
    "print('N0',N0)\n",
    "print('Np',Np)\n",
    "Ee = Eg * Np/(N0 - Np)\n",
    "print('Ee',Ee)"
   ]
  }
 ],
 "metadata": {
  "kernelspec": {
   "display_name": "Python 3",
   "language": "python",
   "name": "python3"
  },
  "language_info": {
   "codemirror_mode": {
    "name": "ipython",
    "version": 3
   },
   "file_extension": ".py",
   "mimetype": "text/x-python",
   "name": "python",
   "nbconvert_exporter": "python",
   "pygments_lexer": "ipython3",
   "version": "3.5.1"
  }
 },
 "nbformat": 4,
 "nbformat_minor": 0
}
