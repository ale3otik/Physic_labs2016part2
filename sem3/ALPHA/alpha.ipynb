{
 "cells": [
  {
   "cell_type": "code",
   "execution_count": 1,
   "metadata": {
    "collapsed": false
   },
   "outputs": [],
   "source": [
    "import numpy as np\n",
    "import matplotlib.pyplot as plt\n",
    "import pandas as pd\n",
    "%matplotlib inline\n",
    "\n",
    "from numpy import polyfit "
   ]
  },
  {
   "cell_type": "code",
   "execution_count": 2,
   "metadata": {
    "collapsed": false
   },
   "outputs": [
    {
     "name": "stdout",
     "output_type": "stream",
     "text": [
      "[  1.61629371 -43.23076923]\n"
     ]
    },
    {
     "data": {
      "image/png": "[encoded data removed]",
      "text/plain": [
       "<matplotlib.figure.Figure at 0x11ac01860>"
      ]
     },
     "metadata": {},
     "output_type": "display_data"
    }
   ],
   "source": [
    "I = [846, 856, 867, 875, 854, 793,694,600,514,419,340,260,183,114,40,4]\n",
    "P = list(np.arange(0,750,50))\n",
    "P.append(725)\n",
    "P = list(reversed(P))\n",
    "P = np.array(P)\n",
    "\n",
    "coef = polyfit(P[4:], I[4:], deg=1)\n",
    "print(coef)\n",
    "\n",
    "grid = np.linspace(np.min(P), np.max(P), 50)\n",
    "vals = grid*coef[0] + coef[1]\n",
    "\n",
    "P_0 = (np.max(I) - coef[1]) / coef[0]\n",
    "plt.figure(figsize=(10,7))\n",
    "plt.plot(grid, vals)\n",
    "plt.plot([np.mean(P), np.max(P)], [np.max(I)]*2)\n",
    "plt.xlabel(\"P, mm Hg\",fontsize=20)\n",
    "plt.ylabel(\"I, pA\",fontsize=20)\n",
    "plt.plot(P,I,'-o')\n",
    "plt.title(\"Ionization camera\",fontsize=18)\n",
    "plt.ylim([0,1000])\n",
    "plt.xlim([0,750])\n",
    "plt.grid()\n",
    "plt.show()"
   ]
  },
  {
   "cell_type": "code",
   "execution_count": 3,
   "metadata": {
    "collapsed": true
   },
   "outputs": [],
   "source": [
    "data = pd.DataFrame(np.array([P, I]).T)\n",
    "data.columns = [\"P, hg mm\", \"I, pA\"]"
   ]
  },
  {
   "cell_type": "code",
   "execution_count": 4,
   "metadata": {
    "collapsed": false
   },
   "outputs": [
    {
     "data": {
      "text/html": [
       "<div>\n",
       "<table border=\"1\" class=\"dataframe\">\n",
       "  <thead>\n",
       "    <tr style=\"text-align: right;\">\n",
       "      <th></th>\n",
       "      <th>P, hg mm</th>\n",
       "      <th>I, pA</th>\n",
       "    </tr>\n",
       "  </thead>\n",
       "  <tbody>\n",
       "    <tr>\n",
       "      <th>0</th>\n",
       "      <td>725</td>\n",
       "      <td>846</td>\n",
       "    </tr>\n",
       "    <tr>\n",
       "      <th>1</th>\n",
       "      <td>700</td>\n",
       "      <td>856</td>\n",
       "    </tr>\n",
       "    <tr>\n",
       "      <th>2</th>\n",
       "      <td>650</td>\n",
       "      <td>867</td>\n",
       "    </tr>\n",
       "    <tr>\n",
       "      <th>3</th>\n",
       "      <td>600</td>\n",
       "      <td>875</td>\n",
       "    </tr>\n",
       "    <tr>\n",
       "      <th>4</th>\n",
       "      <td>550</td>\n",
       "      <td>854</td>\n",
       "    </tr>\n",
       "    <tr>\n",
       "      <th>5</th>\n",
       "      <td>500</td>\n",
       "      <td>793</td>\n",
       "    </tr>\n",
       "    <tr>\n",
       "      <th>6</th>\n",
       "      <td>450</td>\n",
       "      <td>694</td>\n",
       "    </tr>\n",
       "    <tr>\n",
       "      <th>7</th>\n",
       "      <td>400</td>\n",
       "      <td>600</td>\n",
       "    </tr>\n",
       "    <tr>\n",
       "      <th>8</th>\n",
       "      <td>350</td>\n",
       "      <td>514</td>\n",
       "    </tr>\n",
       "    <tr>\n",
       "      <th>9</th>\n",
       "      <td>300</td>\n",
       "      <td>419</td>\n",
       "    </tr>\n",
       "    <tr>\n",
       "      <th>10</th>\n",
       "      <td>250</td>\n",
       "      <td>340</td>\n",
       "    </tr>\n",
       "    <tr>\n",
       "      <th>11</th>\n",
       "      <td>200</td>\n",
       "      <td>260</td>\n",
       "    </tr>\n",
       "    <tr>\n",
       "      <th>12</th>\n",
       "      <td>150</td>\n",
       "      <td>183</td>\n",
       "    </tr>\n",
       "    <tr>\n",
       "      <th>13</th>\n",
       "      <td>100</td>\n",
       "      <td>114</td>\n",
       "    </tr>\n",
       "    <tr>\n",
       "      <th>14</th>\n",
       "      <td>50</td>\n",
       "      <td>40</td>\n",
       "    </tr>\n",
       "    <tr>\n",
       "      <th>15</th>\n",
       "      <td>0</td>\n",
       "      <td>4</td>\n",
       "    </tr>\n",
       "  </tbody>\n",
       "</table>\n",
       "</div>"
      ],
      "text/plain": [
       "    P, hg mm  I, pA\n",
       "0        725    846\n",
       "1        700    856\n",
       "2        650    867\n",
       "3        600    875\n",
       "4        550    854\n",
       "5        500    793\n",
       "6        450    694\n",
       "7        400    600\n",
       "8        350    514\n",
       "9        300    419\n",
       "10       250    340\n",
       "11       200    260\n",
       "12       150    183\n",
       "13       100    114\n",
       "14        50     40\n",
       "15         0      4"
      ]
     },
     "execution_count": 4,
     "metadata": {},
     "output_type": "execute_result"
    }
   ],
   "source": [
    "data"
   ]
  },
  {
   "cell_type": "code",
   "execution_count": 5,
   "metadata": {
    "collapsed": false
   },
   "outputs": [
    {
     "name": "stdout",
     "output_type": "stream",
     "text": [
      "P_0 = 568.0 [mm Hg]\n"
     ]
    }
   ],
   "source": [
    "print(\"P_0 =\", round(P_0),\"[mm Hg]\")"
   ]
  },
  {
   "cell_type": "code",
   "execution_count": 6,
   "metadata": {
    "collapsed": false
   },
   "outputs": [
    {
     "data": {
      "text/plain": [
       "74.003653674054462"
      ]
     },
     "execution_count": 6,
     "metadata": {},
     "output_type": "execute_result"
    }
   ],
   "source": [
    "plut = 19.8\n",
    "l = 5 #cm\n",
    "R_e = l * P_0 / 760\n",
    "R2 = R_e * plut\n",
    "R2 #g/cm^2"
   ]
  },
  {
   "cell_type": "code",
   "execution_count": 7,
   "metadata": {
    "collapsed": false
   },
   "outputs": [
    {
     "name": "stdout",
     "output_type": "stream",
     "text": [
      "R = 3.74 [cm]\n"
     ]
    }
   ],
   "source": [
    "print(\"R =\", round(R_e,2), \"[cm]\")"
   ]
  },
  {
   "cell_type": "code",
   "execution_count": 8,
   "metadata": {
    "collapsed": true
   },
   "outputs": [],
   "source": [
    "E = (R_e / 0.32) ** (2 / 3)"
   ]
  },
  {
   "cell_type": "code",
   "execution_count": 9,
   "metadata": {
    "collapsed": false
   },
   "outputs": [
    {
     "name": "stdout",
     "output_type": "stream",
     "text": [
      "E = 5.15 [МэВ]\n"
     ]
    }
   ],
   "source": [
    "print(\"E =\", round(E,2), \"[МэВ]\")"
   ]
  },
  {
   "cell_type": "code",
   "execution_count": 10,
   "metadata": {
    "collapsed": false
   },
   "outputs": [
    {
     "data": {
      "image/png": "[encoded data removed]",
      "text/plain": [
       "<matplotlib.figure.Figure at 0x11ac92978>"
      ]
     },
     "metadata": {},
     "output_type": "display_data"
    }
   ],
   "source": [
    "N = np.array([2, 6, 189, 1296, 1993, 2546, 2795])\n",
    "T = np.array([10]*len(N))\n",
    "P = 700 - np.array([300, 400, 450, 500, 550, 600, 650])\n",
    "Y = N/T\n",
    "plt.figure(figsize=(10, 7))\n",
    "plt.plot(P,Y,'-o')\n",
    "plt.title(\"Geiger counter\")\n",
    "plt.grid()\n",
    "plt.show()"
   ]
  },
  {
   "cell_type": "code",
   "execution_count": 11,
   "metadata": {
    "collapsed": true
   },
   "outputs": [],
   "source": [
    "data_2 = pd.DataFrame(np.array([P, N, T, Y]).T)\n",
    "data_2.columns = [\"P, hg mm\", \"N\", \"T, sec\", \"Y, 1/sec\"]"
   ]
  },
  {
   "cell_type": "code",
   "execution_count": 12,
   "metadata": {
    "collapsed": false
   },
   "outputs": [
    {
     "data": {
      "text/html": [
       "<div>\n",
       "<table border=\"1\" class=\"dataframe\">\n",
       "  <thead>\n",
       "    <tr style=\"text-align: right;\">\n",
       "      <th></th>\n",
       "      <th>P, hg mm</th>\n",
       "      <th>N</th>\n",
       "      <th>T, sec</th>\n",
       "      <th>Y, 1/sec</th>\n",
       "    </tr>\n",
       "  </thead>\n",
       "  <tbody>\n",
       "    <tr>\n",
       "      <th>0</th>\n",
       "      <td>400</td>\n",
       "      <td>2</td>\n",
       "      <td>10</td>\n",
       "      <td>0.2</td>\n",
       "    </tr>\n",
       "    <tr>\n",
       "      <th>1</th>\n",
       "      <td>300</td>\n",
       "      <td>6</td>\n",
       "      <td>10</td>\n",
       "      <td>0.6</td>\n",
       "    </tr>\n",
       "    <tr>\n",
       "      <th>2</th>\n",
       "      <td>250</td>\n",
       "      <td>189</td>\n",
       "      <td>10</td>\n",
       "      <td>18.9</td>\n",
       "    </tr>\n",
       "    <tr>\n",
       "      <th>3</th>\n",
       "      <td>200</td>\n",
       "      <td>1296</td>\n",
       "      <td>10</td>\n",
       "      <td>129.6</td>\n",
       "    </tr>\n",
       "    <tr>\n",
       "      <th>4</th>\n",
       "      <td>150</td>\n",
       "      <td>1993</td>\n",
       "      <td>10</td>\n",
       "      <td>199.3</td>\n",
       "    </tr>\n",
       "    <tr>\n",
       "      <th>5</th>\n",
       "      <td>100</td>\n",
       "      <td>2546</td>\n",
       "      <td>10</td>\n",
       "      <td>254.6</td>\n",
       "    </tr>\n",
       "    <tr>\n",
       "      <th>6</th>\n",
       "      <td>50</td>\n",
       "      <td>2795</td>\n",
       "      <td>10</td>\n",
       "      <td>279.5</td>\n",
       "    </tr>\n",
       "  </tbody>\n",
       "</table>\n",
       "</div>"
      ],
      "text/plain": [
       "   P, hg mm     N  T, sec  Y, 1/sec\n",
       "0       400     2      10       0.2\n",
       "1       300     6      10       0.6\n",
       "2       250   189      10      18.9\n",
       "3       200  1296      10     129.6\n",
       "4       150  1993      10     199.3\n",
       "5       100  2546      10     254.6\n",
       "6        50  2795      10     279.5"
      ]
     },
     "execution_count": 12,
     "metadata": {},
     "output_type": "execute_result"
    }
   ],
   "source": [
    "data_2"
   ]
  },
  {
   "cell_type": "code",
   "execution_count": 13,
   "metadata": {
    "collapsed": true
   },
   "outputs": [],
   "source": [
    "P_0 = 300\n",
    "L = 9"
   ]
  },
  {
   "cell_type": "code",
   "execution_count": 14,
   "metadata": {
    "collapsed": false
   },
   "outputs": [
    {
     "name": "stdout",
     "output_type": "stream",
     "text": [
      "R = 3.5526315789473686 см\n",
      "E = 4.976608332432676 МэВ\n"
     ]
    },
    {
     "data": {
      "text/plain": [
       "33.39473684210527"
      ]
     },
     "execution_count": 14,
     "metadata": {},
     "output_type": "execute_result"
    }
   ],
   "source": [
    "pol = 9.4\n",
    "R_0 = L * P_0 / 760\n",
    "R1 = pol * R_0\n",
    "E = (R_0 / 0.32) ** (2 / 3)\n",
    "print(\"R =\",R_0,\"см\")\n",
    "print(\"E =\",E,\"МэВ\")\n",
    "R1"
   ]
  },
  {
   "cell_type": "code",
   "execution_count": 15,
   "metadata": {
    "collapsed": true
   },
   "outputs": [],
   "source": [
    "ds = [10, 10.5, 11, 12, 13, 14, 15, \n",
    "     16, 17, 17.5, 18, 18.5, 19, 20, 22, 24]\n",
    "\n",
    "Ns = [161, 752, 153, 149, 163, 175, 167, 149, \n",
    "     124, 477, 60, 256, 32, 31, 30, 19]\n",
    "\n",
    "ts = [11.9, 50.4, 10.3, 10.2, 10.5, 10.3, 10.2, 10.2, \n",
    "     10.4, 50.5, 11, 90, 41.6, 55.5, 91.7, 91]"
   ]
  },
  {
   "cell_type": "code",
   "execution_count": 16,
   "metadata": {
    "collapsed": true
   },
   "outputs": [],
   "source": [
    "dn_dt = np.array(Ns) / np.array(ts)"
   ]
  },
  {
   "cell_type": "code",
   "execution_count": 17,
   "metadata": {
    "collapsed": false
   },
   "outputs": [],
   "source": [
    "data_3 = pd.DataFrame(np.array([ds, Ns, ts, dn_dt]).T)\n",
    "data_3.columns = [\"d, mm\", \"N\", \"t, sec\", \"dN/dT, 1/sec\"]"
   ]
  },
  {
   "cell_type": "code",
   "execution_count": 18,
   "metadata": {
    "collapsed": false
   },
   "outputs": [
    {
     "data": {
      "text/html": [
       "<div>\n",
       "<table border=\"1\" class=\"dataframe\">\n",
       "  <thead>\n",
       "    <tr style=\"text-align: right;\">\n",
       "      <th></th>\n",
       "      <th>d, mm</th>\n",
       "      <th>N</th>\n",
       "      <th>t, sec</th>\n",
       "      <th>dN/dT, 1/sec</th>\n",
       "    </tr>\n",
       "  </thead>\n",
       "  <tbody>\n",
       "    <tr>\n",
       "      <th>0</th>\n",
       "      <td>10.0</td>\n",
       "      <td>161</td>\n",
       "      <td>11.9</td>\n",
       "      <td>13.529412</td>\n",
       "    </tr>\n",
       "    <tr>\n",
       "      <th>1</th>\n",
       "      <td>10.5</td>\n",
       "      <td>752</td>\n",
       "      <td>50.4</td>\n",
       "      <td>14.920635</td>\n",
       "    </tr>\n",
       "    <tr>\n",
       "      <th>2</th>\n",
       "      <td>11.0</td>\n",
       "      <td>153</td>\n",
       "      <td>10.3</td>\n",
       "      <td>14.854369</td>\n",
       "    </tr>\n",
       "    <tr>\n",
       "      <th>3</th>\n",
       "      <td>12.0</td>\n",
       "      <td>149</td>\n",
       "      <td>10.2</td>\n",
       "      <td>14.607843</td>\n",
       "    </tr>\n",
       "    <tr>\n",
       "      <th>4</th>\n",
       "      <td>13.0</td>\n",
       "      <td>163</td>\n",
       "      <td>10.5</td>\n",
       "      <td>15.523810</td>\n",
       "    </tr>\n",
       "    <tr>\n",
       "      <th>5</th>\n",
       "      <td>14.0</td>\n",
       "      <td>175</td>\n",
       "      <td>10.3</td>\n",
       "      <td>16.990291</td>\n",
       "    </tr>\n",
       "    <tr>\n",
       "      <th>6</th>\n",
       "      <td>15.0</td>\n",
       "      <td>167</td>\n",
       "      <td>10.2</td>\n",
       "      <td>16.372549</td>\n",
       "    </tr>\n",
       "    <tr>\n",
       "      <th>7</th>\n",
       "      <td>16.0</td>\n",
       "      <td>149</td>\n",
       "      <td>10.2</td>\n",
       "      <td>14.607843</td>\n",
       "    </tr>\n",
       "    <tr>\n",
       "      <th>8</th>\n",
       "      <td>17.0</td>\n",
       "      <td>124</td>\n",
       "      <td>10.4</td>\n",
       "      <td>11.923077</td>\n",
       "    </tr>\n",
       "    <tr>\n",
       "      <th>9</th>\n",
       "      <td>17.5</td>\n",
       "      <td>477</td>\n",
       "      <td>50.5</td>\n",
       "      <td>9.445545</td>\n",
       "    </tr>\n",
       "    <tr>\n",
       "      <th>10</th>\n",
       "      <td>18.0</td>\n",
       "      <td>60</td>\n",
       "      <td>11.0</td>\n",
       "      <td>5.454545</td>\n",
       "    </tr>\n",
       "    <tr>\n",
       "      <th>11</th>\n",
       "      <td>18.5</td>\n",
       "      <td>256</td>\n",
       "      <td>90.0</td>\n",
       "      <td>2.844444</td>\n",
       "    </tr>\n",
       "    <tr>\n",
       "      <th>12</th>\n",
       "      <td>19.0</td>\n",
       "      <td>32</td>\n",
       "      <td>41.6</td>\n",
       "      <td>0.769231</td>\n",
       "    </tr>\n",
       "    <tr>\n",
       "      <th>13</th>\n",
       "      <td>20.0</td>\n",
       "      <td>31</td>\n",
       "      <td>55.5</td>\n",
       "      <td>0.558559</td>\n",
       "    </tr>\n",
       "    <tr>\n",
       "      <th>14</th>\n",
       "      <td>22.0</td>\n",
       "      <td>30</td>\n",
       "      <td>91.7</td>\n",
       "      <td>0.327154</td>\n",
       "    </tr>\n",
       "    <tr>\n",
       "      <th>15</th>\n",
       "      <td>24.0</td>\n",
       "      <td>19</td>\n",
       "      <td>91.0</td>\n",
       "      <td>0.208791</td>\n",
       "    </tr>\n",
       "  </tbody>\n",
       "</table>\n",
       "</div>"
      ],
      "text/plain": [
       "    d, mm    N  t, sec  dN/dT, 1/sec\n",
       "0    10.0  161    11.9     13.529412\n",
       "1    10.5  752    50.4     14.920635\n",
       "2    11.0  153    10.3     14.854369\n",
       "3    12.0  149    10.2     14.607843\n",
       "4    13.0  163    10.5     15.523810\n",
       "5    14.0  175    10.3     16.990291\n",
       "6    15.0  167    10.2     16.372549\n",
       "7    16.0  149    10.2     14.607843\n",
       "8    17.0  124    10.4     11.923077\n",
       "9    17.5  477    50.5      9.445545\n",
       "10   18.0   60    11.0      5.454545\n",
       "11   18.5  256    90.0      2.844444\n",
       "12   19.0   32    41.6      0.769231\n",
       "13   20.0   31    55.5      0.558559\n",
       "14   22.0   30    91.7      0.327154\n",
       "15   24.0   19    91.0      0.208791"
      ]
     },
     "execution_count": 18,
     "metadata": {},
     "output_type": "execute_result"
    }
   ],
   "source": [
    "data_3"
   ]
  },
  {
   "cell_type": "code",
   "execution_count": 21,
   "metadata": {
    "collapsed": false
   },
   "outputs": [
    {
     "data": {
      "image/png": "[encoded data removed]",
      "text/plain": [
       "<matplotlib.figure.Figure at 0x11b129d68>"
      ]
     },
     "metadata": {},
     "output_type": "display_data"
    }
   ],
   "source": [
    "plt.figure(figsize=(10, 7))\n",
    "plt.plot(ds, dn_dt, \"-o\")\n",
    "plt.grid()\n",
    "plt.xlabel(\"d, mm\",fontsize=20)\n",
    "plt.ylabel(r\"$dN / dt, s^{-1}$\",fontsize=20)\n",
    "plt.show()"
   ]
  },
  {
   "cell_type": "code",
   "execution_count": 23,
   "metadata": {
    "collapsed": false
   },
   "outputs": [
    {
     "data": {
      "text/plain": [
       "3.2789572040107253"
      ]
     },
     "execution_count": 23,
     "metadata": {},
     "output_type": "execute_result"
    }
   ],
   "source": [
    "R_e = 1.9 #cm\n",
    "E = (R_e / 0.32) ** (2 / 3)\n",
    "E"
   ]
  },
  {
   "cell_type": "code",
   "execution_count": 26,
   "metadata": {
    "collapsed": false
   },
   "outputs": [
    {
     "data": {
      "text/plain": [
       "769478400000.0"
      ]
     },
     "execution_count": 26,
     "metadata": {},
     "output_type": "execute_result"
    }
   ],
   "source": [
    "T = 2.44 * 10**4 * 365 * 24 * 60 * 60\n",
    "T"
   ]
  },
  {
   "cell_type": "code",
   "execution_count": 28,
   "metadata": {
    "collapsed": true
   },
   "outputs": [],
   "source": [
    "Na = 6 * 10**23"
   ]
  },
  {
   "cell_type": "code",
   "execution_count": 29,
   "metadata": {
    "collapsed": false
   },
   "outputs": [
    {
     "name": "stdout",
     "output_type": "stream",
     "text": [
      "9.881400818778058e-09\n"
     ]
    }
   ],
   "source": [
    "ALL = 4 * np.pi / 0.04 / np.log(2) * T * 17\n",
    "print(ALL / Na)"
   ]
  },
  {
   "cell_type": "code",
   "execution_count": 30,
   "metadata": {
    "collapsed": false
   },
   "outputs": [
    {
     "data": {
      "text/plain": [
       "8.0"
      ]
     },
     "execution_count": 30,
     "metadata": {},
     "output_type": "execute_result"
    }
   ],
   "source": [
    "np.mean([8,7,8,8,8,9])"
   ]
  }
 ],
 "metadata": {
  "anaconda-cloud": {},
  "kernelspec": {
   "display_name": "Python 3",
   "language": "python",
   "name": "python3"
  },
  "language_info": {
   "codemirror_mode": {
    "name": "ipython",
    "version": 3
   },
   "file_extension": ".py",
   "mimetype": "text/x-python",
   "name": "python",
   "nbconvert_exporter": "python",
   "pygments_lexer": "ipython3",
   "version": "3.5.3"
  }
 },
 "nbformat": 4,
 "nbformat_minor": 0
}
