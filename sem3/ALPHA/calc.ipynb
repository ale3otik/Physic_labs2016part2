{
 "cells": [
  {
   "cell_type": "code",
   "execution_count": 18,
   "metadata": {
    "collapsed": true
   },
   "outputs": [],
   "source": [
    "import numpy as np\n",
    "import matplotlib.pyplot as plt\n",
    "%matplotlib inline\n",
    "\n",
    "import seaborn as sns"
   ]
  },
  {
   "cell_type": "code",
   "execution_count": 8,
   "metadata": {
    "collapsed": false
   },
   "outputs": [
    {
     "name": "stdout",
     "output_type": "stream",
     "text": [
      "16\n",
      "16\n"
     ]
    },
    {
     "data": {
      "text/plain": [
       "[<matplotlib.lines.Line2D at 0x10c7b3da0>]"
      ]
     },
     "execution_count": 8,
     "metadata": {},
     "output_type": "execute_result"
    },
    {
     "data": {
      "image/png": "[encoded data removed]",
      "text/plain": [
       "<matplotlib.figure.Figure at 0x117e36d68>"
      ]
     },
     "metadata": {},
     "output_type": "display_data"
    }
   ],
   "source": [
    "I = [846, 856, 867, 875, 854, 793,694,600,514,419,340,260,183,114,40,4]\n",
    "P = list(np.arange(0,750,50))\n",
    "P.append(725)\n",
    "P = list(reversed(P))\n",
    "print(len(I))\n",
    "print(len(P))\n",
    "plt.plot(P,I,'-o')"
   ]
  },
  {
   "cell_type": "code",
   "execution_count": 17,
   "metadata": {
    "collapsed": false
   },
   "outputs": [
    {
     "data": {
      "text/plain": [
       "[<matplotlib.lines.Line2D at 0x1187daa58>]"
      ]
     },
     "execution_count": 17,
     "metadata": {},
     "output_type": "execute_result"
    },
    {
     "data": {
      "image/png": "[encoded data removed]",
      "text/plain": [
       "<matplotlib.figure.Figure at 0x118727518>"
      ]
     },
     "metadata": {},
     "output_type": "display_data"
    }
   ],
   "source": [
    "N = np.array([42,30,5,3,3,2,2,3,4])\n",
    "L = [10,15,20,25,30,35,40,45,51]\n",
    "T = np.array([2.3,2.1,2.5,30,14.489,14.35,10.5,14.3,24.7])\n",
    "X = L\n",
    "Y = N/T\n",
    "\n",
    "# Y = list(reversed(Y))\n",
    "# X = list(reversed(X))\n",
    "# plt.xlim(20,55)\n",
    "# plt.ylim(0,2)\n",
    "plt.plot(X,Y,'-o')"
   ]
  },
  {
   "cell_type": "code",
   "execution_count": null,
   "metadata": {
    "collapsed": true
   },
   "outputs": [],
   "source": []
  },
  {
   "cell_type": "code",
   "execution_count": 2,
   "metadata": {
    "collapsed": false
   },
   "outputs": [
    {
     "name": "stdout",
     "output_type": "stream",
     "text": [
      "58.5\n"
     ]
    }
   ],
   "source": [
    "print(3 + 10 + 17 + 9.5*3)"
   ]
  },
  {
   "cell_type": "code",
   "execution_count": 15,
   "metadata": {
    "collapsed": false
   },
   "outputs": [
    {
     "name": "stdout",
     "output_type": "stream",
     "text": [
      "142.5 145.0 73.625 76.125\n",
      "437.25\n",
      "600\n",
      "0.72875\n"
     ]
    }
   ],
   "source": [
    "S1 = (10 - 1/2) * 15\n",
    "S2 = (15 - 1/2) * 10\n",
    "S3 = (15/2 + 1/4) * (10-1/2)\n",
    "S4 = (10/2 + 1/4) * (15 - 1/2)\n",
    "\n",
    "print(S1,S2,S3,S4)\n",
    "print(S1+S2+S3+S4)\n",
    "print(20 * 30)\n",
    "print((S1+S2+S3+S4)/600)"
   ]
  },
  {
   "cell_type": "code",
   "execution_count": 16,
   "metadata": {
    "collapsed": false
   },
   "outputs": [
    {
     "name": "stdout",
     "output_type": "stream",
     "text": [
      "437.25\n",
      "0.72875\n"
     ]
    }
   ],
   "source": [
    "s = 10 * 15 + (1/2 * 10) + 1/2 * 1/2 + 1/2 * 15\n",
    "print(600 - s)\n",
    "print(437.25/600.0)"
   ]
  },
  {
   "cell_type": "code",
   "execution_count": 21,
   "metadata": {
    "collapsed": false
   },
   "outputs": [
    {
     "name": "stdout",
     "output_type": "stream",
     "text": [
      "[299  31 267 279 300 163  79 102  87  29 100 181  34  93   1  74 216  52\n",
      " 214 276 141  50   3  51 159 115 156 197 256   6 104 249 246 237 215 112\n",
      "  35  64 150 151 125 212  25  99 242 253  45 119  28  11  46 231 160  84\n",
      "  13  82 271 257 266 109 149 106  47 263 135 269 157 154 293 153 162 245\n",
      " 165  14  16 168 280 240 139 180 211 201 247 116 138 298 199 101  32 219\n",
      " 203  10 250  58 193 146  19  77 186 204 296 248 291 121 268   4 134 145\n",
      " 164 295 120  85  98  55 170  15 113 226 270 252 243 192 175  56 236  12\n",
      " 262 105 188  26 290 235 272 176  49 282 122 177  75 277 238 258 140 265\n",
      "  22 172  43 169  38 278 233  36 118  61 143 148  41  95 287 297 191 196\n",
      " 189 103  66 232 171   9 217 111 286 161 179  37 220 182  57  59  53 260\n",
      "  88  24  78 285  63 202 158 284  71  86   5 174 228  97 128 222 142   7\n",
      " 184 183 206  48 289 132  39  62 124 131  91 198 244 194 178 200 221 136\n",
      "  54  67 167 283 229 187  92 241  44 227  80 223 254  81  76 129 264 224\n",
      "   8  33  96  73  65  89 190  90  68 166 108 225 209 152 294  60 218 239\n",
      "  18 195  40 173 144 213  23 127 110 275 274 251 234 114 185 230  69   2\n",
      "  83  70 207 147 126 117 208  20 205  94 261 292  21  27 210 107 137 155\n",
      " 255 273 281  17 130 288  30  42 133 123  72 259]\n"
     ]
    }
   ],
   "source": [
    "x = np.arange(1,301)\n",
    "np.random.shuffle(x)\n",
    "print(x)"
   ]
  }
 ],
 "metadata": {
  "kernelspec": {
   "display_name": "Python 3",
   "language": "python",
   "name": "python3"
  },
  "language_info": {
   "codemirror_mode": {
    "name": "ipython",
    "version": 3
   },
   "file_extension": ".py",
   "mimetype": "text/x-python",
   "name": "python",
   "nbconvert_exporter": "python",
   "pygments_lexer": "ipython3",
   "version": "3.5.3"
  }
 },
 "nbformat": 4,
 "nbformat_minor": 0
}
