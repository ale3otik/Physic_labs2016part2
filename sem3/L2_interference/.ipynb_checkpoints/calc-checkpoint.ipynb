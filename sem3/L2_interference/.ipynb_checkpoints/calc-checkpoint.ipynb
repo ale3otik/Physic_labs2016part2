{
 "cells": [
  {
   "cell_type": "code",
   "execution_count": 1,
   "metadata": {
    "collapsed": true
   },
   "outputs": [],
   "source": [
    "import numpy as np\n",
    "import matplotlib.pyplot as plt\n",
    "%matplotlib inline"
   ]
  },
  {
   "cell_type": "code",
   "execution_count": 5,
   "metadata": {
    "collapsed": false
   },
   "outputs": [
    {
     "name": "stdout",
     "output_type": "stream",
     "text": [
      "0.004195804195804196\n"
     ]
    }
   ],
   "source": [
    "L = 286 * 1e-2\n",
    "dx = 12 * 1e-3\n",
    "alpha2 = dx/L\n",
    "print(alpha2)"
   ]
  },
  {
   "cell_type": "code",
   "execution_count": 23,
   "metadata": {
    "collapsed": false
   },
   "outputs": [
    {
     "data": {
      "text/plain": [
       "0.096916472817036775"
      ]
     },
     "execution_count": 23,
     "metadata": {},
     "output_type": "execute_result"
    }
   ],
   "source": [
    "F = 36 * 1e-1\n",
    "#AIR\n",
    "# f = np.array([99,283,93,245,239,234])\n",
    "# LMB2 = np.array([4,10,4,10,9.3,8.3])\n",
    "\n",
    "# WATER\n",
    "f = np.array([85.5, 69 , 56.5 , 40.5])\n",
    "LMB2 = np.array([8,7,6.5,4.5])\n",
    "#\n",
    "\n",
    "LMB1 = F / (f - F) * LMB2 * 1e-3\n",
    "# LMB1\n",
    "l = 661 * 1e-9\n",
    "alp = l / LMB1\n",
    "# alp\n",
    "# alp.mean()\n",
    "np.std(alp)/alp.mean()"
   ]
  }
 ],
 "metadata": {
  "kernelspec": {
   "display_name": "Python 3",
   "language": "python",
   "name": "python3"
  },
  "language_info": {
   "codemirror_mode": {
    "name": "ipython",
    "version": 3
   },
   "file_extension": ".py",
   "mimetype": "text/x-python",
   "name": "python",
   "nbconvert_exporter": "python",
   "pygments_lexer": "ipython3",
   "version": "3.5.1"
  }
 },
 "nbformat": 4,
 "nbformat_minor": 0
}
