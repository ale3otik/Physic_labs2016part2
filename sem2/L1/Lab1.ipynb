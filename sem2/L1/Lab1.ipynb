{
 "cells": [
  {
   "cell_type": "code",
   "execution_count": 116,
   "metadata": {
    "collapsed": true
   },
   "outputs": [],
   "source": [
    "from math import *\n",
    "import numpy as np\n",
    "import matplotlib.pyplot as plt\n",
    "%matplotlib inline"
   ]
  },
  {
   "cell_type": "markdown",
   "metadata": {},
   "source": [
    "$C_v = \\frac{i}{2} R$\n",
    "\n",
    "$C_p = \\frac{i + 2}{2}R$\n",
    "\n",
    "$C_p - C_v = R$\n",
    "\n",
    "$U_{1/2/3}= \\frac{3/5/6}{2}RT$\n",
    "\n",
    "$P = \\frac{RT}{V^\\gamma} , \\gamma = \\frac{C_p} {C_v}$\n",
    "\n",
    "$c = \\sqrt{\\frac{dP}{d\\rho}}$ скорость продольной волны\n",
    "\n",
    "$PV = \\frac{m}{\\mu} RT$\n",
    "\n",
    "$p = \\frac{\\rho}{\\mu}RT$\n",
    "\n",
    "$\\frac{dp}{d\\rho} = \\frac{RT}{\\mu}$\n",
    "\n",
    "$q = 0; \\implies \\frac{p}{\\rho^\\gamma} = const$\n",
    "\n",
    "$c_Q = \\sqrt{\\gamma} c_v$\n"
   ]
  },
  {
   "cell_type": "code",
   "execution_count": 3,
   "metadata": {
    "collapsed": false
   },
   "outputs": [
    {
     "name": "stdout",
     "output_type": "stream",
     "text": [
      "279.6937980893662\n"
     ]
    }
   ],
   "source": [
    "print(sqrt(8.31 * 27.3 / (29)) * 100)"
   ]
  },
  {
   "cell_type": "code",
   "execution_count": 4,
   "metadata": {
    "collapsed": false
   },
   "outputs": [
    {
     "name": "stdout",
     "output_type": "stream",
     "text": [
      "0.33\n"
     ]
    }
   ],
   "source": [
    "print( 330 / 1000)"
   ]
  },
  {
   "cell_type": "markdown",
   "metadata": {},
   "source": [
    "\n",
    "\n",
    "$f = f_0 + \\frac{cm}{2L_0}$\n",
    "\n",
    "$C = L * f$\n",
    "\n",
    "$l = L / n$\n",
    "\n",
    "$$"
   ]
  },
  {
   "cell_type": "code",
   "execution_count": 68,
   "metadata": {
    "collapsed": false
   },
   "outputs": [],
   "source": [
    "L = 0.795 # m\n",
    "\n",
    "#воздух \n",
    "\n",
    "#Гц\n",
    "f1 = [652, 864 , 1074, 1289, 1500, 1710]  #повышение\n",
    "f2 = [1706 , 1499 , 1285 , 1065, 860, 651] #понижение"
   ]
  },
  {
   "cell_type": "code",
   "execution_count": 7,
   "metadata": {
    "collapsed": true
   },
   "outputs": [],
   "source": []
  },
  {
   "cell_type": "code",
   "execution_count": 17,
   "metadata": {
    "collapsed": false
   },
   "outputs": [
    {
     "name": "stdout",
     "output_type": "stream",
     "text": [
      "&651&860&1065&1285&1499&1706\n"
     ]
    }
   ],
   "source": [
    "s = ''\n",
    "# f2.reverse()\n",
    "# print(f2)\n",
    "\n",
    "for i in range(len(f2)):\n",
    "    s+= '&' + str(f2[i])\n",
    "print(s)"
   ]
  },
  {
   "cell_type": "code",
   "execution_count": 20,
   "metadata": {
    "collapsed": false
   },
   "outputs": [
    {
     "name": "stdout",
     "output_type": "stream",
     "text": [
      "&652&862&1070&1287&1500&1708\n"
     ]
    }
   ],
   "source": [
    "f = [round((f1[i] + f2[i])/2) for i in range(len(f1))]\n",
    "s = ''\n",
    "for i in range(len(f)):\n",
    "    s+= '&' + str(f[i])\n",
    "print(s)"
   ]
  },
  {
   "cell_type": "code",
   "execution_count": 38,
   "metadata": {
    "collapsed": true
   },
   "outputs": [],
   "source": [
    "def mnk_val(x,y):\n",
    "    x = np.array(x)\n",
    "    y = np.array(y)\n",
    "    t = (x*y).mean() - x.mean()*y.mean()\n",
    "    b = (x*x).mean() - x.mean()**2\n",
    "    t = float(t)\n",
    "    b = float(b)\n",
    "    return t/b\n",
    "\n",
    "def err(x,y,k):\n",
    "    x = np.array(x)\n",
    "    y = np.array(y)\n",
    "    t = (y*y).mean() - y.mean()**2\n",
    "    b = (x*x).mean() - x.mean()**2\n",
    "    t = float(t)\n",
    "    b = float(b)\n",
    "    return sqrt((t/b - k*k)/len(x))\n",
    "\n",
    "def mnk_b(x,y,k):\n",
    "    x = np.array(x)\n",
    "    y = np.array(y)\n",
    "    return y.mean() - k*x.mean()\n",
    "    "
   ]
  },
  {
   "cell_type": "code",
   "execution_count": 39,
   "metadata": {
    "collapsed": false
   },
   "outputs": [],
   "source": [
    "OX = [i for i in range(1,7)]\n",
    "OY = [f[i] - f[0] for i in range(6)]\n",
    "k = mnk_val(OX,OY)\n",
    "b = mnk_b(OX,OY,k)\n",
    "sk = err(OX,OY,k)"
   ]
  },
  {
   "cell_type": "code",
   "execution_count": 57,
   "metadata": {
    "collapsed": false
   },
   "outputs": [
    {
     "data": {
      "image/png": "[encoded data removed]",
      "text/plain": [
       "<matplotlib.figure.Figure at 0x110666b70>"
      ]
     },
     "metadata": {},
     "output_type": "display_data"
    },
    {
     "name": "stdout",
     "output_type": "stream",
     "text": [
      "211.74285714285716\n",
      "0.5134031227388947\n"
     ]
    }
   ],
   "source": [
    "\n",
    "plt.figure(figsize=(15,7))\n",
    "plt.grid(True)\n",
    "plt.xlim(0.5,6.5)\n",
    "plt.xlabel('n',size=16)\n",
    "plt.ylabel(r'$f[i] - f[0]$',size=16)\n",
    "plt.scatter(OX, OY, s=300 ,marker='+', color='black')\n",
    "plt.plot(OX,OY,'o' , alpha=0.5)\n",
    "plt.plot([1,6],[0,k * 6 + b], 'b')\n",
    "plt.savefig('g1mm.png') \n",
    "plt.show()\n",
    "print(k)\n",
    "print(sk)"
   ]
  },
  {
   "cell_type": "code",
   "execution_count": 71,
   "metadata": {
    "collapsed": false
   },
   "outputs": [
    {
     "name": "stdout",
     "output_type": "stream",
     "text": [
      "336.6711428571429\n",
      "1.6326219303096852\n"
     ]
    }
   ],
   "source": [
    "v = k * 2 * L\n",
    "sv =2 * 2 * L * sk\n",
    "print(v)\n",
    "print(sv)"
   ]
  },
  {
   "cell_type": "code",
   "execution_count": 72,
   "metadata": {
    "collapsed": false
   },
   "outputs": [
    {
     "name": "stdout",
     "output_type": "stream",
     "text": [
      "1.3372609203586823\n",
      "0.012969579077052625\n",
      "0.012977474515802249\n"
     ]
    }
   ],
   "source": [
    "T = (273.15 + 22.3)\n",
    "R = 8.314\n",
    "mu = 28.98 * 1e-3\n",
    "sT = 0.1\n",
    "gm = (mu * v **2) / (R * T)\n",
    "sg = mu/R * ((2 * v * sv / T)**2 + (v**2 * sT/ T**2)**2)**0.5\n",
    "print(gm)\n",
    "print(mu * (2 * v * sv / T)/R)\n",
    "print(sg)"
   ]
  },
  {
   "cell_type": "code",
   "execution_count": 99,
   "metadata": {
    "collapsed": false
   },
   "outputs": [
    {
     "name": "stdout",
     "output_type": "stream",
     "text": [
      "&510&672&833&1003&1166&1336&1502&1666\n"
     ]
    }
   ],
   "source": [
    "#Co2\n",
    "f3 = [510 , round((510 + 833)/2), 833 , 1003, 1166, 1336, 1502, 1666] #повышение 2329 , 2495 \n",
    "s = ''\n",
    "for i in range(len(f3)):\n",
    "    s+= '&' + str(f3[i])\n",
    "print(s)"
   ]
  },
  {
   "cell_type": "code",
   "execution_count": 112,
   "metadata": {
    "collapsed": false
   },
   "outputs": [],
   "source": [
    "OX = [i for i in range(1,len(f3) + 1)]\n",
    "OY = [f3[i] - f3[0] for i in range(len(f3))]\n",
    "k = mnk_val(OX,OY)\n",
    "b = mnk_b(OX,OY,k)\n",
    "sk = err(OX,OY,k)"
   ]
  },
  {
   "cell_type": "code",
   "execution_count": 113,
   "metadata": {
    "collapsed": false
   },
   "outputs": [
    {
     "data": {
      "image/png": "[encoded data removed]",
      "text/plain": [
       "<matplotlib.figure.Figure at 0x1106ab940>"
      ]
     },
     "metadata": {},
     "output_type": "display_data"
    },
    {
     "name": "stdout",
     "output_type": "stream",
     "text": [
      "165.64285714285714\n",
      "0.3804870670119648\n"
     ]
    }
   ],
   "source": [
    "plt.figure(figsize=(15,7))\n",
    "plt.grid(True)\n",
    "plt.xlim(0.8,8.2)\n",
    "plt.xlabel('n',size=16)\n",
    "plt.ylabel(r'$f[i] - f[0]$',size=16)\n",
    "plt.scatter(OX, OY, s=300 ,marker='+', color='black')\n",
    "plt.plot(OX,OY,'o' , alpha=0.5)\n",
    "plt.plot([1,8],[0,k * 8 + b], 'b')\n",
    "plt.savefig('g2mm.png') \n",
    "plt.show()\n",
    "print(k)\n",
    "print(sk)"
   ]
  },
  {
   "cell_type": "code",
   "execution_count": 114,
   "metadata": {
    "collapsed": false
   },
   "outputs": [
    {
     "name": "stdout",
     "output_type": "stream",
     "text": [
      "263.3721428571429\n",
      "1.209948873098048\n"
     ]
    }
   ],
   "source": [
    "v = k * 2 * L\n",
    "sv = 2 * 2 * L * sk\n",
    "print(v)\n",
    "print(sv)"
   ]
  },
  {
   "cell_type": "code",
   "execution_count": 121,
   "metadata": {
    "collapsed": false
   },
   "outputs": [
    {
     "name": "stdout",
     "output_type": "stream",
     "text": [
      "1.209948873098048\n",
      "1.2425055478620777\n",
      "0.01141630372251817\n",
      "0.011424047019490664\n",
      "3.0291003203904907e-05\n"
     ]
    }
   ],
   "source": [
    "T = (273.15 + 22.3)\n",
    "R = 8.314\n",
    "mu = 44 * 1e-3\n",
    "sT = 0.1\n",
    "gm = (mu * v **2) / (R * T)\n",
    "sg = mu/R * ((2 * v * sv / T)**2 + (v**2 * sT/ T**2)**2)**0.5\n",
    "sg2 = gm * mu * ((sv/v)**2 + (sT/T)**2)**0.5 / R\n",
    "print(sv)\n",
    "print(gm)\n",
    "print(mu * (2 * v * sv / T)/R)\n",
    "print(sg)\n",
    "print(sg2)"
   ]
  }
 ],
 "metadata": {
  "kernelspec": {
   "display_name": "Python 3",
   "language": "python",
   "name": "python3"
  },
  "language_info": {
   "codemirror_mode": {
    "name": "ipython",
    "version": 3
   },
   "file_extension": ".py",
   "mimetype": "text/x-python",
   "name": "python",
   "nbconvert_exporter": "python",
   "pygments_lexer": "ipython3",
   "version": "3.5.1"
  }
 },
 "nbformat": 4,
 "nbformat_minor": 0
}
