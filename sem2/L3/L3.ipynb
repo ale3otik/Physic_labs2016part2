{
 "cells": [
  {
   "cell_type": "code",
   "execution_count": 1,
   "metadata": {
    "collapsed": true
   },
   "outputs": [],
   "source": [
    "from math import *\n",
    "import numpy as np\n",
    "import matplotlib.pyplot as plt\n",
    "%matplotlib inline"
   ]
  },
  {
   "cell_type": "code",
   "execution_count": 75,
   "metadata": {
    "collapsed": false
   },
   "outputs": [],
   "source": [
    "kbolc = 1.381 * 1e-23\n",
    "L = 10 #* 1e-2\n",
    "sigma_dx=0.05 #* 1e-3\n",
    "sigma_t= 0.1\n",
    "sigma_T = 0.1\n",
    "ro_glass = 2.5 #* 1e3\n",
    "T_glass = np.array([20.6 , 20.6 , 25.0,25.0, 29.8, 29.8 , 34.9 , 34.9 , 40.4 , 40.4, 45.0, 45.0 , 50.0, 50.0])\n",
    "t1_glass = np.array([15.2, 15.5 , 13.6,13.6 , 9.9, 9.4 , 6.2 , 6.3 , 4.6 , 4.7, 3.7 , 3.3, 2.9 , 2.8])\n",
    "t2_glass = np.array([30.9, 31.4 , 27.2,27.2, 20.0 , 18.8 , 11.9 , 12.2, 8.7, 8.7 , 7.2 , 6.7, 5.9, 5.6])\n",
    "dx_glass = np.array([2.05,2.0,2.1,2.1,2.05,2.15,2.00,2.00,2.05,2.0,2.1,2.1,2.05,2.1])"
   ]
  },
  {
   "cell_type": "code",
   "execution_count": 84,
   "metadata": {
    "collapsed": false
   },
   "outputs": [],
   "source": [
    "ro_glass = 7.8 #* 1e3\n",
    "T_glass = np.array([21.7,24.9,25.0,30.0,30.0,34.9,35.0, 40.3, 40.4, 45.0, 45.0, 50.0, 50.0])\n",
    "t1_glass = np.array([21.6,18.6,14.6,10.0,9.3,6.0,7.9,4.9,6.7,4.6,6.2,4.7,3.4])\n",
    "t2_glass= np.array([43.2,36.0,29.3,20.8,19.5,12.3,14.5,10.3,13.6,10.1,12.1,9.5,6.8])\n",
    "dx_glass=np.array([0.8,0.77,0.9,0.83,0.85,0.9,0.83,0.8,0.75,0.73,0.7,0.7,0.7])\n"
   ]
  },
  {
   "cell_type": "code",
   "execution_count": null,
   "metadata": {
    "collapsed": true
   },
   "outputs": [],
   "source": []
  },
  {
   "cell_type": "code",
   "execution_count": 85,
   "metadata": {
    "collapsed": false
   },
   "outputs": [
    {
     "name": "stdout",
     "output_type": "stream",
     "text": [
      "|c|c|c|c|c|c|c|c|c|c|c|c|c|c\n"
     ]
    }
   ],
   "source": [
    "n = 13\n",
    "s = ''\n",
    "for i in range(n+1):\n",
    "    s += '|c'\n",
    "print(s)"
   ]
  },
  {
   "cell_type": "code",
   "execution_count": 86,
   "metadata": {
    "collapsed": false
   },
   "outputs": [],
   "source": [
    "def get_vst(t1,t2):\n",
    "    return L / (t2 - t1)\n",
    "vst_glass = get_vst(t1_glass,t2_glass)\n",
    "vst_ir = get_vst(t1_ir,t2_ir)"
   ]
  },
  {
   "cell_type": "code",
   "execution_count": 94,
   "metadata": {
    "collapsed": false
   },
   "outputs": [
    {
     "name": "stdout",
     "output_type": "stream",
     "text": [
      "&21.7 &24.9 &25.0 &30.0 &30.0 &34.9 &35.0 &40.3 &40.4 &45.0 &45.0 &50.0 &50.0 \n",
      "&21.6 &18.6 &14.6 &10.0 &9.3 &6.0 &7.9 &4.9 &6.7 &4.6 &6.2 &4.7 &3.4 \n",
      "&43.2 &36.0 &29.3 &20.8 &19.5 &12.3 &14.5 &10.3 &13.6 &10.1 &12.1 &9.5 &6.8 \n",
      "&0.8 &0.77 &0.9 &0.83 &0.85 &0.9 &0.83 &0.8 &0.75 &0.73 &0.7 &0.7 &0.7 \n",
      "&0.46 &0.57 &0.68 &0.93 &0.98 &1.59 &1.52 &1.85 &1.45 &1.82 &1.69 &2.08 &2.94 \n"
     ]
    }
   ],
   "source": [
    "def get_s(X,i):\n",
    "    if i <= 0:\n",
    "        i = 2\n",
    "    s = ''\n",
    "    for x in X:\n",
    "        s += '&' + str(round(x,i)) + ' '\n",
    "    return s\n",
    "\n",
    "print(get_s(T_glass,1))\n",
    "print(get_s(t1_glass,1))\n",
    "print(get_s(t2_glass,1))\n",
    "print(get_s(dx_ir,2))\n",
    "print(get_s(vst_glass,2))"
   ]
  },
  {
   "cell_type": "code",
   "execution_count": 88,
   "metadata": {
    "collapsed": false
   },
   "outputs": [],
   "source": [
    "def rho_glic(t):\n",
    "    return 1e-3 * (1275.4 - (1275.4 - 1269.4)/ 10.0 * t)\n",
    "def get_rho_glic(T):\n",
    "    return np.array([round(rho_glic(t),3) for t in T])"
   ]
  },
  {
   "cell_type": "code",
   "execution_count": 95,
   "metadata": {
    "collapsed": true
   },
   "outputs": [],
   "source": [
    "g = 9.8\n",
    "def get_eta(r,rho,rho_l,v_st):\n",
    "    return 2.0/9.0 * g * r**2 * (rho - rho_l)/v_st\n",
    "def get_eta_eps(e_t,e_r):\n",
    "    return (0.05**2 + 4 * e_r**2 + e_t**2)**0.5\n",
    "def get_tau(r,rho,eta):\n",
    "    return 2/9 * r**2*rho/eta\n",
    "def get_RE(v_st,rho_l,r,eta):\n",
    "    return v_st * 1e-2 * rho_l*1e6 * r*1e-2 / eta"
   ]
  },
  {
   "cell_type": "code",
   "execution_count": 96,
   "metadata": {
    "collapsed": false
   },
   "outputs": [
    {
     "name": "stdout",
     "output_type": "stream",
     "text": [
      "&1.262 &1.26 &1.26 &1.257 &1.257 &1.254 &1.254 &1.251 &1.251 &1.248 &1.248 &1.245 &1.245 \n"
     ]
    }
   ],
   "source": [
    "rho_glic_glass = get_rho_glic(T_glass)\n",
    "print(get_s(rho_glic_glass,3))"
   ]
  },
  {
   "cell_type": "code",
   "execution_count": 97,
   "metadata": {
    "collapsed": false
   },
   "outputs": [
    {
     "name": "stdout",
     "output_type": "stream",
     "text": [
      "&1968.3 &1469.3 &1695.9 &1060.2 &1050.1 &727.5 &648.2 &492.9 &553.6 &418.2 &412.5 &335.8 &237.8 \n",
      "&0.135 &0.139 &0.122 &0.131 &0.128 &0.123 &0.131 &0.136 &0.143 &0.147 &0.152 &0.153 &0.154 \n",
      "&265.1 &204.7 &207.0 &138.6 &134.6 &89.4 &85.1 &67.0 &79.2 &61.5 &62.8 &51.3 &36.7 \n",
      "&0.056 &0.07 &0.083 &0.113 &0.119 &0.193 &0.184 &0.225 &0.176 &0.221 &0.206 &0.253 &0.357 \n",
      "&0.0 &0.0 &0.0 &0.1 &0.1 &0.2 &0.2 &0.4 &0.2 &0.4 &0.4 &0.5 &1.1 \n"
     ]
    }
   ],
   "source": [
    "eta_glass = get_eta(dx_glass,ro_glass, rho_glic_glass,vst_glass) * 1e2\n",
    "eps_eta_glass = get_eta_eps(sigma_t/(t2_glass - t1_glass), sigma_dx/dx_glass)\n",
    "sigma_eta_glass = eps_eta_glass * eta_glass \n",
    "eta_glass_mid = np.array([(eta_glass[int(2*i)] +  eta_glass[int(2*i + 1)])/2 for i in range(int(len(eta_glass)/2))])\n",
    "T_glass_mid = np.array([(T_glass[2*i] +  T_glass[2*i + 1])/2 for i in range(int(len(T_glass)/2))])\n",
    "eps_eta_glass_mid = np.array([(eps_eta_glass[int(2*i)]**2 +  eps_eta_glass[int(2*i + 1)]**2)**0.5/2 for i in range(int(len(eta_glass)/2))])\n",
    "sigma_glass_mid = np.array([(sigma_eta_glass[int(2*i)]**2 +  sigma_eta_glass[int(2*i + 1)]**2)**0.5/2 for i in range(int(len(eta_glass)/2))])\n",
    "\n",
    "print(get_s(eta_glass,1))\n",
    "print(get_s(eps_eta_glass,3))\n",
    "print(get_s(sigma_eta_glass,1))\n",
    "print(get_s(get_tau(dx_glass,ro_glass,eta_glass) * 1e2, 3))\n",
    "print(get_s(get_RE(vst_glass,rho_glic_glass,dx_glass,eta_glass),1))"
   ]
  },
  {
   "cell_type": "code",
   "execution_count": 92,
   "metadata": {
    "collapsed": false
   },
   "outputs": [
    {
     "name": "stdout",
     "output_type": "stream",
     "text": [
      "[ 0.59662896  0.28736672  0.29250806  0.86831024  0.56951899]\n",
      "[ 0.13185152  0.12602397  0.12966108  0.13946061  0.14884662]\n",
      "[ 0.22099417  0.43854755  0.44327352  0.16061149  0.26135498]\n",
      "[ 7.4493942   7.22840003  6.78985247  6.34657896  6.18596746  5.92461248]\n",
      "5906.80743399\n",
      "293.463992159\n",
      "0.0496823360908\n",
      "8.15730106634e-20\n",
      "4.05273773171e-21\n"
     ]
    },
    {
     "data": {
      "image/png": "[encoded data removed]",
      "text/plain": [
       "<matplotlib.figure.Figure at 0x10c2e09b0>"
      ]
     },
     "metadata": {},
     "output_type": "display_data"
    }
   ],
   "source": [
    "def build_plot(eta, T):\n",
    "    plt.figure(figsize=(15,6))\n",
    "    plt.grid(True)\n",
    "    plt.title(r'$\\ln \\eta (\\frac{1}{T})$')\n",
    "    OX = 1/(T+273)\n",
    "    sigm_OX = sigma_T / (T+273)**2\n",
    "    OY = np.log(eta)\n",
    "    dy_dx = np.array([(OY[i+1]-OY[i])/(OX[i+1]-OX[i]) for i in range(len(OX)-1)])\n",
    "    k = np.mean(dy_dx)\n",
    "    dX = np.array([abs(OX[i+1]-OX[i]) for i in range(len(OX)-1)])\n",
    "    dY = np.array([abs(OY[i+1]-OY[i]) for i in range(len(OX)-1)])\n",
    "    T = np.array(T)\n",
    "    sigm_dx = np.array([(sigm_OX[i+1]**2+ sigm_OX[i]**2)**0.5 for i in range(len(OX)-1)])\n",
    "    eps_dx = sigm_dx/dX\n",
    "    sigm_logeta = eps_eta_glass_mid\n",
    "#     eps_log_eta = sigm_logeta/\n",
    "#     print(eps_log_eta)\n",
    "    sigm_dy = np.array([(sigm_logeta[i+1]**2 + sigm_logeta[i]**2)**0.5 for i in range(len(OX)-1)])\n",
    "    eps_dy = sigm_dy/dY\n",
    "    print(eps_dy)\n",
    "    print(sigm_dy)\n",
    "    print(dY)    \n",
    "    print(OY)\n",
    "\n",
    "#     print('xx')\n",
    "#     print(eps_dy)\n",
    "    eps_dy_dx = (eps_dx**2 + eps_dy**2)**0.5\n",
    "    sigm_dy_dx = eps_dy_dx * dy_dx\n",
    "    sigma_k = np.var(sigm_dy_dx) ** 0.5\n",
    "    eps_k = sigma_k / k\n",
    "    print(k)\n",
    "    print(sigma_k)\n",
    "    print(eps_k)\n",
    "#     print(sigm_logeta)\n",
    "#     eps_log_eta = sigm_logeta/np.log(eta)\n",
    "#     print(eps_log_eta)\n",
    "\n",
    "#     eps_T = sigma_T/(T+273)\n",
    "    \n",
    "\n",
    "    b = np.mean([OY[i] - k * (OX[i] - OX[0]) for i in range(len(OX))])\n",
    "    plt.plot(OX,OY,'o',color='black')\n",
    "    plt.plot([OX[0],OX[-1]], [b,b + (OX[-2] - OX[0])*k])\n",
    "#     print(k)\n",
    "#     sigm_ln_eta = (np.var(sigma_eta_glass/eta_glass))**0.5\n",
    "#     eps_k = (eps_log_eta**2 +  eps_T**2)**0.5\n",
    "#     print(eps_k)\n",
    "#     plt.xlim(0,0.050)\n",
    "    plt.errorbar(OX,OY, xerr=0, yerr= np.max(sigm_logeta), fmt='o',color = 'black')\n",
    "    plt.xlabel(r'$1/T$')\n",
    "    plt.ylabel(r'$\\ln \\eta$')\n",
    "    plt.savefig('g2.png')\n",
    "    W = kbolc * k\n",
    "    print(W)\n",
    "    print(W * eps_k)\n",
    "build_plot(eta_glass_mid,T_glass_mid)"
   ]
  },
  {
   "cell_type": "code",
   "execution_count": null,
   "metadata": {
    "collapsed": true
   },
   "outputs": [],
   "source": []
  },
  {
   "cell_type": "code",
   "execution_count": null,
   "metadata": {
    "collapsed": true
   },
   "outputs": [],
   "source": []
  },
  {
   "cell_type": "code",
   "execution_count": null,
   "metadata": {
    "collapsed": true
   },
   "outputs": [],
   "source": []
  }
 ],
 "metadata": {
  "kernelspec": {
   "display_name": "Python 3",
   "language": "python",
   "name": "python3"
  },
  "language_info": {
   "codemirror_mode": {
    "name": "ipython",
    "version": 3
   },
   "file_extension": ".py",
   "mimetype": "text/x-python",
   "name": "python",
   "nbconvert_exporter": "python",
   "pygments_lexer": "ipython3",
   "version": "3.5.1"
  }
 },
 "nbformat": 4,
 "nbformat_minor": 0
}
