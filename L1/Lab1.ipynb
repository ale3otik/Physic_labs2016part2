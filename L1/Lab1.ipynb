{
 "cells": [
  {
   "cell_type": "code",
   "execution_count": 1,
   "metadata": {
    "collapsed": true
   },
   "outputs": [],
   "source": [
    "from math import *\n",
    "import numpy as np\n",
    "import matplotlib.pyplot as plt\n",
    "%matplotlib inline"
   ]
  },
  {
   "cell_type": "markdown",
   "metadata": {},
   "source": [
    "$C_v = \\frac{i}{2} R$\n",
    "\n",
    "$C_p = \\frac{i + 2}{2}R$\n",
    "\n",
    "$C_p - C_v = R$\n",
    "\n",
    "$U_{1/2/3}= \\frac{3/5/6}{2}RT$\n",
    "\n",
    "$P = \\frac{RT}{V^\\gamma} , \\gamma = \\frac{C_p} {C_v}$\n",
    "\n",
    "$c = \\sqrt{\\frac{dP}{d\\rho}}$ скорость продольной волны\n",
    "\n",
    "$PV = \\frac{m}{\\mu} RT$\n",
    "\n",
    "$p = \\frac{\\rho}{\\mu}RT$\n",
    "\n",
    "$\\frac{dp}{d\\rho} = \\frac{RT}{\\mu}$\n",
    "\n",
    "$q = 0; \\implies \\frac{p}{\\rho^\\gamma} = const$\n",
    "\n",
    "$c_Q = \\sqrt{\\gamma} c_v$\n"
   ]
  },
  {
   "cell_type": "code",
   "execution_count": 11,
   "metadata": {
    "collapsed": false
   },
   "outputs": [
    {
     "name": "stdout",
     "output_type": "stream",
     "text": [
      "279.6937980893662\n"
     ]
    }
   ],
   "source": [
    "print(sqrt(8.31 * 27.3 / (29)) * 100)"
   ]
  },
  {
   "cell_type": "code",
   "execution_count": 12,
   "metadata": {
    "collapsed": false
   },
   "outputs": [
    {
     "name": "stdout",
     "output_type": "stream",
     "text": [
      "0.33\n"
     ]
    }
   ],
   "source": [
    "print( 330 / 1000)"
   ]
  },
  {
   "cell_type": "markdown",
   "metadata": {},
   "source": [
    "\n",
    "\n",
    "$f = f_0 + \\frac{cm}{2L_0}$\n",
    "\n",
    "$C = L * f$\n",
    "\n",
    "$l = L / n$\n",
    "\n",
    "$$"
   ]
  },
  {
   "cell_type": "code",
   "execution_count": 13,
   "metadata": {
    "collapsed": true
   },
   "outputs": [],
   "source": [
    "L = 795 # mm\n",
    "T = \n",
    "#воздух \n",
    "\n",
    "#Гц\n",
    "f1 = [652, 864 , 1074, 1289, 1500, 1710]  #повышение\n",
    "f2 = [1706 , 1499 , 1285 , 1065, 860, 651] #понижение"
   ]
  },
  {
   "cell_type": "code",
   "execution_count": null,
   "metadata": {
    "collapsed": true
   },
   "outputs": [],
   "source": [
    "#Co2\n",
    "f3 = [510 , 833 , 1003, 1166, 1336, 1502, 1666 , 2329 , 2495 ] #повышение"
   ]
  }
 ],
 "metadata": {
  "kernelspec": {
   "display_name": "Python 3",
   "language": "python",
   "name": "python3"
  },
  "language_info": {
   "codemirror_mode": {
    "name": "ipython",
    "version": 3
   },
   "file_extension": ".py",
   "mimetype": "text/x-python",
   "name": "python",
   "nbconvert_exporter": "python",
   "pygments_lexer": "ipython3",
   "version": "3.5.1"
  }
 },
 "nbformat": 4,
 "nbformat_minor": 0
}
